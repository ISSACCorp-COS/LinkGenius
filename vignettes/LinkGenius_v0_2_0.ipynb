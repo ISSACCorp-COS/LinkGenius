{
  "nbformat": 4,
  "nbformat_minor": 0,
  "metadata": {
    "colab": {
      "name": "LinkGenius_v0.2.0.ipynb",
      "provenance": []
    },
    "kernelspec": {
      "name": "ir",
      "display_name": "R"
    },
    "language_info": {
      "name": "R"
    }
  },
  "cells": [
    {
      "cell_type": "markdown",
      "metadata": {
        "id": "-J0UGymUDFf9"
      },
      "source": [
        "# Google Colaboratory Link Genius Notebook\n",
        "\n",
        "<a href=\"http://colab.research.google.com/github/ISSACCorp-COS/LinkGenius/blob/master/vignettes/LinkGenius_v0_2_0.ipynb\" target=\"_parent\"><img src=\"https://colab.research.google.com/assets/colab-badge.svg\" alt=\"Open In Colab\"/></a>\n",
        "\n",
        "This notebook runs the [Link Genius Tool](https://github.com/ISSACCorp-COS/LinkGenius). See the link for more details about using the shiny application in other ways.\n",
        "\n",
        "The following cell will load the libraries and code for you.  This can take ten minutes or so.  However, it will complete eventually.  After the first time, it will be faster until the end of your colab session."
      ]
    },
    {
      "cell_type": "code",
      "metadata": {
        "id": "hXJ-3vD43jX4",
        "colab": {
          "base_uri": "https://localhost:8080/"
        },
        "outputId": "978317b3-6cba-4a13-97c4-93e4880701b1"
      },
      "source": [
        "zipName <- \"LinkGenius.zip\"\n",
        "zipUrl <- \"https://github.com/ISSACCorp-COS/LinkGenius/archive/refs/heads/master.zip\"\n",
        "download.file(url = zipUrl, destfile = zipName, method = \"auto\", quiet = FALSE, mode = \"wb\")\n",
        "unzipFolder <- \"/content/\"\n",
        "unzip(zipfile = zipName, exdir = unzipFolder)\n",
        "setwd(\"/content/LinkGenius-master/\")\n",
        "\n",
        "if( !require(fastLink) ) install.packages(\"fastLink\")\n",
        "library(fastLink)\n",
        "\n",
        "if( !require(shiny) ) install.packages(\"shiny\")\n",
        "library(shiny)\n",
        "\n",
        "if( !require(reticulate) ) install.packages(\"reticulate\")\n",
        "library(reticulate)\n",
        "iframe <- import(\"proxy_frame.iframe\", as = \"iframe\")\n",
        "iframe$show()\n",
        "\n",
        "# Define UI for app that draws a histogram ----\n",
        "ui <- fluidPage(\n",
        "\n",
        "  # App title ----\n",
        "  titlePanel(\"Hello Shiny!\"),\n",
        "\n",
        "  # Sidebar layout with input and output definitions ----\n",
        "  sidebarLayout(\n",
        "\n",
        "    # Sidebar panel for inputs ----\n",
        "    sidebarPanel(\n",
        "\n",
        "      # Input: Slider for the number of bins ----\n",
        "      sliderInput(inputId = \"bins\",\n",
        "                  label = \"Number of bins:\",\n",
        "                  min = 1,\n",
        "                  max = 50,\n",
        "                  value = 30)\n",
        "\n",
        "    ),\n",
        "\n",
        "    # Main panel for displaying outputs ----\n",
        "    mainPanel(\n",
        "\n",
        "      # Output: Histogram ----\n",
        "      plotOutput(outputId = \"distPlot\")\n",
        "\n",
        "    )\n",
        "  )\n",
        ")\n",
        "\n",
        "# Define server logic required to draw a histogram ----\n",
        "server <- function(input, output) {\n",
        "\n",
        "  # Histogram of the Old Faithful Geyser Data ----\n",
        "  # with requested number of bins\n",
        "  # This expression that generates a histogram is wrapped in a call\n",
        "  # to renderPlot to indicate that:\n",
        "  #\n",
        "  # 1. It is \"reactive\" and therefore should be automatically\n",
        "  #    re-executed when inputs (input$bins) change\n",
        "  # 2. Its output type is a plot\n",
        "  output$distPlot <- renderPlot({\n",
        "\n",
        "    x    <- faithful$waiting\n",
        "    bins <- seq(min(x), max(x), length.out = input$bins + 1)\n",
        "\n",
        "    hist(x, breaks = bins, col = \"#75AADB\", border = \"white\",\n",
        "         xlab = \"Waiting time to next eruption (in mins)\",\n",
        "         main = \"Histogram of waiting times\")\n",
        "\n",
        "    })\n",
        "\n",
        "}\n",
        "\n",
        "#shinyApp(ui = ui, server = server)\n"
      ],
      "execution_count": null,
      "outputs": [
        {
          "output_type": "stream",
          "text": [
            "Loading required package: fastLink\n",
            "\n",
            "Warning message in library(package, lib.loc = lib.loc, character.only = TRUE, logical.return = TRUE, :\n",
            "“there is no package called ‘fastLink’”\n",
            "Installing package into ‘/usr/local/lib/R/site-library’\n",
            "(as ‘lib’ is unspecified)\n",
            "\n",
            "also installing the dependencies ‘pixmap’, ‘sp’, ‘iterators’, ‘ade4’, ‘ggrepel’, ‘xtable’, ‘scatterplot3d’, ‘lpSolve’, ‘foreach’, ‘doParallel’, ‘gtools’, ‘stringdist’, ‘FactoClass’, ‘adagio’, ‘plotrix’, ‘RcppArmadillo’, ‘RcppEigen’\n",
            "\n",
            "\n"
          ],
          "name": "stderr"
        }
      ]
    }
  ]
}