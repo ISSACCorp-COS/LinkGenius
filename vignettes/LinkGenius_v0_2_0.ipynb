{
  "nbformat": 4,
  "nbformat_minor": 0,
  "metadata": {
    "colab": {
      "name": "LinkGenius_v0.2.0.ipynb",
      "provenance": []
    },
    "kernelspec": {
      "name": "ir",
      "display_name": "R"
    },
    "language_info": {
      "name": "R"
    }
  },
  "cells": [
    {
      "cell_type": "markdown",
      "metadata": {
        "id": "-J0UGymUDFf9"
      },
      "source": [
        "# Google Colaboratory Link Genius Notebook\n",
        "\n",
        "<a href=\"http://colab.research.google.com/github/ISSACCorp-COS/LinkGenius/blob/master/vignettes/LinkGenius_v0_2_0.ipynb\" target=\"_parent\"><img src=\"https://colab.research.google.com/assets/colab-badge.svg\" alt=\"Open In Colab\"/></a>\n",
        "\n",
        "This notebook runs the [Link Genius Tool](https://github.com/ISSACCorp-COS/LinkGenius). See the link for more details about using the shiny application in other ways.\n",
        "\n",
        "The following cell will load the libraries and code for you.  This can take ten minutes or so.  However, it will complete eventually.  After the first time, it will be faster until the end of your colab session."
      ]
    },
    {
      "cell_type": "code",
      "metadata": {
        "id": "hXJ-3vD43jX4",
        "colab": {
          "base_uri": "https://localhost:8080/"
        },
        "outputId": "b1b16151-52b3-47d5-fc82-47809d762bd9"
      },
      "source": [
        "zipName <- \"LinkGenius.zip\"\n",
        "zipUrl <- \"https://github.com/ISSACCorp-COS/LinkGenius/archive/refs/heads/master.zip\"\n",
        "download.file(url = zipUrl, destfile = zipName, method = \"auto\", quiet = FALSE, mode = \"wb\")\n",
        "unzipFolder <- \"/content/\"\n",
        "unzip(zipfile = zipName, exdir = unzipFolder)\n",
        "setwd(\"/content/LinkGenius-master/\")\n",
        "\n",
        "if( !require(reticulate) ) install.packages(\"reticulate\")\n",
        "library(reticulate)\n",
        "iframe <- import(\"proxy_frame.iframe\", as = \"iframe\")\n",
        "iframe_script <- iframe$show(6006)\n",
        "\n",
        "print(iframe_script)\n",
        "\n",
        "if( !require(fastLink) ) install.packages(\"fastLink\")\n",
        "library(fastLink)\n",
        "\n",
        "if( !require(shiny) ) install.packages(\"shiny\")\n",
        "library(shiny)\n",
        "\n",
        "library(IRdisplay)"
      ],
      "execution_count": 1,
      "outputs": [
        {
          "output_type": "stream",
          "text": [
            "Loading required package: reticulate\n",
            "\n"
          ],
          "name": "stderr"
        },
        {
          "output_type": "stream",
          "text": [
            "[1] \"\\n        (async () => {\\n            const url = await google.colab.kernel.proxyPort(3771, {\\\"cache\\\": true});\\n            console.log(`Adding iframe from URL:${url}`);\\n            const iframe = document.createElement('iframe');\\n            iframe.src = url;\\n            iframe.setAttribute('width', '100%');\\n            iframe.setAttribute('height', '500');\\n            iframe.setAttribute('frameborder', 0);\\n            document.body.appendChild(iframe);\\n        })();\\n    \"\n"
          ],
          "name": "stdout"
        },
        {
          "output_type": "stream",
          "text": [
            "Loading required package: fastLink\n",
            "\n",
            "Loading required package: shiny\n",
            "\n"
          ],
          "name": "stderr"
        }
      ]
    },
    {
      "cell_type": "code",
      "metadata": {
        "id": "ETzf6PRqAPe1",
        "outputId": "7c719754-97be-437d-f1ab-100f0155b962",
        "colab": {
          "base_uri": "https://localhost:8080/",
          "height": 573
        }
      },
      "source": [
        "# Define UI for app that draws a histogram ----\n",
        "ui <- fluidPage(\n",
        "\n",
        "  # App title ----\n",
        "  titlePanel(\"Hello Shiny!\"),\n",
        "\n",
        "  # Sidebar layout with input and output definitions ----\n",
        "  sidebarLayout(\n",
        "\n",
        "    # Sidebar panel for inputs ----\n",
        "    sidebarPanel(\n",
        "\n",
        "      # Input: Slider for the number of bins ----\n",
        "      sliderInput(inputId = \"bins\",\n",
        "                  label = \"Number of bins:\",\n",
        "                  min = 1,\n",
        "                  max = 50,\n",
        "                  value = 30)\n",
        "\n",
        "    ),\n",
        "\n",
        "    # Main panel for displaying outputs ----\n",
        "    mainPanel(\n",
        "\n",
        "      # Output: Histogram ----\n",
        "      plotOutput(outputId = \"distPlot\")\n",
        "\n",
        "    )\n",
        "  )\n",
        ")\n",
        "\n",
        "# Define server logic required to draw a histogram ----\n",
        "server <- function(input, output) {\n",
        "\n",
        "  # Histogram of the Old Faithful Geyser Data ----\n",
        "  # with requested number of bins\n",
        "  # This expression that generates a histogram is wrapped in a call\n",
        "  # to renderPlot to indicate that:\n",
        "  #\n",
        "  # 1. It is \"reactive\" and therefore should be automatically\n",
        "  #    re-executed when inputs (input$bins) change\n",
        "  # 2. Its output type is a plot\n",
        "  output$distPlot <- renderPlot({\n",
        "\n",
        "    x    <- faithful$waiting\n",
        "    bins <- seq(min(x), max(x), length.out = input$bins + 1)\n",
        "\n",
        "    hist(x, breaks = bins, col = \"#75AADB\", border = \"white\",\n",
        "         xlab = \"Waiting time to next eruption (in mins)\",\n",
        "         main = \"Histogram of waiting times\")\n",
        "\n",
        "    })\n",
        "\n",
        "}\n",
        "\n",
        "display_javascript(iframe_script)\n",
        "shinyApp(ui = ui, server = server)\n"
      ],
      "execution_count": null,
      "outputs": [
        {
          "output_type": "display_data",
          "data": {
            "application/javascript": [
              "\n",
              "        (async () => {\n",
              "            const url = await google.colab.kernel.proxyPort(3771, {\"cache\": true});\n",
              "            console.log(`Adding iframe from URL:${url}`);\n",
              "            const iframe = document.createElement('iframe');\n",
              "            iframe.src = url;\n",
              "            iframe.setAttribute('width', '100%');\n",
              "            iframe.setAttribute('height', '500');\n",
              "            iframe.setAttribute('frameborder', 0);\n",
              "            document.body.appendChild(iframe);\n",
              "        })();\n",
              "    "
            ]
          },
          "metadata": {
            "tags": []
          }
        },
        {
          "output_type": "stream",
          "text": [
            "\n",
            "Listening on http://127.0.0.1:6006\n",
            "\n"
          ],
          "name": "stderr"
        }
      ]
    }
  ]
}